{
 "cells": [
  {
   "cell_type": "markdown",
   "id": "d47709df-fe73-4fe3-8405-4a3fb3abc892",
   "metadata": {},
   "source": [
    "# Glue Job Local Dev Notebook\n",
    "\n",
    "This example shows that you can use ``run_jupyter_lab_in_container.py`` script to run Glue Jupyter Lab. Then you can do Glue develop locally. This is super useful for testing Spark / Glue API."
   ]
  },
  {
   "cell_type": "code",
   "execution_count": 9,
   "id": "823272db-c306-49e2-888e-c3b152015165",
   "metadata": {},
   "outputs": [
    {
     "data": {
      "application/vnd.jupyter.widget-view+json": {
       "model_id": "",
       "version_major": 2,
       "version_minor": 0
      },
      "text/plain": [
       "FloatProgress(value=0.0, bar_style='info', description='Progress:', layout=Layout(height='25px', width='50%'),…"
      ]
     },
     "metadata": {},
     "output_type": "display_data"
    }
   ],
   "source": [
    "# standard library\n",
    "import typing as T\n",
    "import sys\n",
    "import os\n",
    "import dataclasses\n",
    "from pprint import pprint\n",
    "\n",
    "# third party library\n",
    "from boto_session_manager import BotoSesManager\n",
    "\n",
    "# pyspark and glue stuff\n",
    "from pyspark.context import SparkContext\n",
    "from pyspark.sql.functions import udf\n",
    "from pyspark.sql.types import IntegerType\n",
    "\n",
    "from awsglue.dynamicframe import DynamicFrame\n",
    "from awsglue.context import GlueContext\n",
    "from awsglue.job import Job\n",
    "from awsglue.utils import getResolvedOptions\n",
    "\n",
    "# custom library\n",
    "from simple_glue.glue_libs.pyspark_utils import double_a_column"
   ]
  },
  {
   "cell_type": "code",
   "execution_count": 2,
   "id": "30bc2d31-9157-4688-bb9b-d0400e3bb185",
   "metadata": {},
   "outputs": [
    {
     "data": {
      "application/vnd.jupyter.widget-view+json": {
       "model_id": "",
       "version_major": 2,
       "version_minor": 0
      },
      "text/plain": [
       "FloatProgress(value=0.0, bar_style='info', description='Progress:', layout=Layout(height='25px', width='50%'),…"
      ]
     },
     "metadata": {},
     "output_type": "display_data"
    },
    {
     "name": "stdout",
     "output_type": "stream",
     "text": [
      "/home/glue_user/spark/python/pyspark/sql/context.py:112: FutureWarning: Deprecated in 3.0.0. Use SparkSession.builder.getOrCreate() instead.\n",
      "  warnings.warn("
     ]
    }
   ],
   "source": [
    "spark_ctx = SparkContext.getOrCreate()\n",
    "glue_ctx = GlueContext(spark_ctx)\n",
    "spark_ses = glue_ctx.spark_session"
   ]
  },
  {
   "cell_type": "code",
   "execution_count": 3,
   "id": "f3eacb28-fba2-4415-8b9f-25000be79f38",
   "metadata": {},
   "outputs": [
    {
     "data": {
      "application/vnd.jupyter.widget-view+json": {
       "model_id": "",
       "version_major": 2,
       "version_minor": 0
      },
      "text/plain": [
       "FloatProgress(value=0.0, bar_style='info', description='Progress:', layout=Layout(height='25px', width='50%'),…"
      ]
     },
     "metadata": {},
     "output_type": "display_data"
    },
    {
     "name": "stdout",
     "output_type": "stream",
     "text": [
      "+---+---+---+\n",
      "| id| v1| v2|\n",
      "+---+---+---+\n",
      "|  1|  1|  1|\n",
      "|  2|  2|  2|\n",
      "|  3|  3|  3|\n",
      "+---+---+---+"
     ]
    }
   ],
   "source": [
    "df = spark.createDataFrame(\n",
    "    [\n",
    "        (1, 1, 1),\n",
    "        (2, 2, 2),\n",
    "        (3, 3, 3),\n",
    "    ], \n",
    "    (\"id\", \"v1\", \"v2\")\n",
    ")\n",
    "df.show()"
   ]
  },
  {
   "cell_type": "code",
   "execution_count": 4,
   "id": "0ffecb48-ca20-49cd-b5a7-bf6e83118f5a",
   "metadata": {},
   "outputs": [
    {
     "data": {
      "application/vnd.jupyter.widget-view+json": {
       "model_id": "",
       "version_major": 2,
       "version_minor": 0
      },
      "text/plain": [
       "FloatProgress(value=0.0, bar_style='info', description='Progress:', layout=Layout(height='25px', width='50%'),…"
      ]
     },
     "metadata": {},
     "output_type": "display_data"
    },
    {
     "name": "stdout",
     "output_type": "stream",
     "text": [
      "+---+--------+--------+\n",
      "| id|v1_x_100|v2_x_100|\n",
      "+---+--------+--------+\n",
      "|  1|     100|     100|\n",
      "|  2|     200|     200|\n",
      "|  3|     300|     300|\n",
      "+---+--------+--------+"
     ]
    }
   ],
   "source": [
    "# Define a UDF\n",
    "# ref: https://spark.apache.org/docs/latest/api/python/reference/api/pyspark.sql.functions.udf.html#pyspark.sql.functions.udf\n",
    "udf_x_100 = udf(\n",
    "    f=lambda x: x * 100, \n",
    "    returnType=IntegerType(),\n",
    ")\n",
    "\n",
    "# Apply UDF to column\n",
    "df_v1_v2_x_100 = df.select(\n",
    "    df.id, \n",
    "    udf_x_100(df.v1).alias(\"v1_x_100\"),\n",
    "    udf_x_100(df.v2).alias(\"v2_x_100\"),\n",
    ")\n",
    "\n",
    "df_v1_v2_x_100.show()"
   ]
  },
  {
   "cell_type": "code",
   "execution_count": 11,
   "id": "5eea13f5-a959-4685-aaf4-13ae4804b02e",
   "metadata": {},
   "outputs": [
    {
     "data": {
      "application/vnd.jupyter.widget-view+json": {
       "model_id": "",
       "version_major": 2,
       "version_minor": 0
      },
      "text/plain": [
       "FloatProgress(value=0.0, bar_style='info', description='Progress:', layout=Layout(height='25px', width='50%'),…"
      ]
     },
     "metadata": {},
     "output_type": "display_data"
    },
    {
     "name": "stdout",
     "output_type": "stream",
     "text": [
      "User Id = AIDA***KA6K\n",
      "AWS Account Id = 87********59\n",
      "Principal Arn = arn:aws:iam::87********59:user/sanhe\n",
      "AWS Account Alias = bmt-app-dev\n",
      "AWS Region = us-east-1"
     ]
    }
   ],
   "source": [
    "# use third party library locally\n",
    "bsm = BotoSesManager()\n",
    "bsm.print_who_am_i()"
   ]
  },
  {
   "cell_type": "code",
   "execution_count": 12,
   "id": "9c9bbb11-a849-4217-ab38-191e5009e9fd",
   "metadata": {},
   "outputs": [
    {
     "data": {
      "application/vnd.jupyter.widget-view+json": {
       "model_id": "",
       "version_major": 2,
       "version_minor": 0
      },
      "text/plain": [
       "FloatProgress(value=0.0, bar_style='info', description='Progress:', layout=Layout(height='25px', width='50%'),…"
      ]
     },
     "metadata": {},
     "output_type": "display_data"
    },
    {
     "name": "stdout",
     "output_type": "stream",
     "text": [
      "+---+---+---+------+\n",
      "| id| v1| v2|v1_x_2|\n",
      "+---+---+---+------+\n",
      "|  1|  1|  1|     2|\n",
      "|  2|  2|  2|     4|\n",
      "|  3|  3|  3|     6|\n",
      "+---+---+---+------+"
     ]
    }
   ],
   "source": [
    "# use your own Glue Python library locally\n",
    "double_a_column(df, col=df.v1, col_name=\"v1_x_2\").show()"
   ]
  },
  {
   "cell_type": "code",
   "execution_count": null,
   "id": "6e87cf53-fdc8-4a75-9197-548a71248b54",
   "metadata": {},
   "outputs": [],
   "source": []
  }
 ],
 "metadata": {
  "kernelspec": {
   "display_name": "PySpark",
   "language": "python",
   "name": "pysparkkernel"
  },
  "language_info": {
   "codemirror_mode": {
    "name": "python",
    "version": 3
   },
   "file_extension": ".py",
   "mimetype": "text/x-python",
   "name": "pyspark",
   "pygments_lexer": "python3"
  }
 },
 "nbformat": 4,
 "nbformat_minor": 5
}
